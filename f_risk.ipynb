{
 "cells": [
  {
   "cell_type": "code",
   "execution_count": 2,
   "metadata": {},
   "outputs": [],
   "source": [
    "import numpy as np\n",
    "import pandas as pd"
   ]
  },
  {
   "cell_type": "code",
   "execution_count": 3,
   "metadata": {},
   "outputs": [
    {
     "data": {
      "text/plain": [
       "(233, 7)"
      ]
     },
     "execution_count": 3,
     "metadata": {},
     "output_type": "execute_result"
    }
   ],
   "source": [
    "data_train = pd.read_csv('Train.csv')\n",
    "data_test = pd.read_csv('Test.csv')\n",
    "data_test.shape"
   ]
  },
  {
   "cell_type": "code",
   "execution_count": 4,
   "metadata": {},
   "outputs": [
    {
     "data": {
      "text/plain": [
       "(543, 8)"
      ]
     },
     "execution_count": 4,
     "metadata": {},
     "output_type": "execute_result"
    }
   ],
   "source": [
    "data_train.shape"
   ]
  },
  {
   "cell_type": "code",
   "execution_count": 5,
   "metadata": {},
   "outputs": [],
   "source": [
    "train = pd.read_csv('Train.csv')\n",
    "test = pd.read_csv('Test.csv')\n",
    "targets = train.IsUnderRisk\n",
    "train.drop('IsUnderRisk',axis=1,inplace=True)"
   ]
  },
  {
   "cell_type": "code",
   "execution_count": 6,
   "metadata": {},
   "outputs": [
    {
     "data": {
      "text/plain": [
       "(543, 7)"
      ]
     },
     "execution_count": 6,
     "metadata": {},
     "output_type": "execute_result"
    }
   ],
   "source": [
    "train.shape"
   ]
  },
  {
   "cell_type": "code",
   "execution_count": 7,
   "metadata": {},
   "outputs": [],
   "source": [
    "combined = train.append(test)"
   ]
  },
  {
   "cell_type": "code",
   "execution_count": 8,
   "metadata": {},
   "outputs": [],
   "source": [
    "combined.reset_index(inplace=True)"
   ]
  },
  {
   "cell_type": "code",
   "execution_count": 9,
   "metadata": {},
   "outputs": [],
   "source": [
    "combined.drop(['index'],1,inplace=True)"
   ]
  },
  {
   "cell_type": "code",
   "execution_count": 10,
   "metadata": {},
   "outputs": [
    {
     "data": {
      "text/plain": [
       "City                    0\n",
       "Location_Score          0\n",
       "Internal_Audit_Score    0\n",
       "External_Audit_Score    0\n",
       "Fin_Score               0\n",
       "Loss_score              0\n",
       "Past_Results            0\n",
       "dtype: int64"
      ]
     },
     "execution_count": 10,
     "metadata": {},
     "output_type": "execute_result"
    }
   ],
   "source": [
    "combined.isnull().sum()"
   ]
  },
  {
   "cell_type": "code",
   "execution_count": 11,
   "metadata": {},
   "outputs": [],
   "source": [
    "train_data = combined.iloc[0:543:]\n",
    "test_data = combined.iloc[543:,:]"
   ]
  },
  {
   "cell_type": "code",
   "execution_count": 105,
   "metadata": {},
   "outputs": [],
   "source": [
    "from sklearn.ensemble import RandomForestClassifier,ExtraTreesClassifier\n",
    "from sklearn.feature_selection import SelectFromModel"
   ]
  },
  {
   "cell_type": "code",
   "execution_count": 106,
   "metadata": {},
   "outputs": [
    {
     "name": "stderr",
     "output_type": "stream",
     "text": [
      "[Parallel(n_jobs=1)]: Using backend SequentialBackend with 1 concurrent workers.\n",
      "[Parallel(n_jobs=1)]: Done  50 out of  50 | elapsed:    0.0s finished\n"
     ]
    },
    {
     "data": {
      "text/plain": [
       "RandomForestClassifier(bootstrap=True, class_weight=None, criterion='gini',\n",
       "            max_depth=None, max_features=1.0, max_leaf_nodes=None,\n",
       "            min_impurity_decrease=0.0, min_impurity_split=None,\n",
       "            min_samples_leaf=1, min_samples_split=2,\n",
       "            min_weight_fraction_leaf=0.0, n_estimators=50, n_jobs=None,\n",
       "            oob_score=False, random_state=None, verbose=1,\n",
       "            warm_start=False)"
      ]
     },
     "execution_count": 106,
     "metadata": {},
     "output_type": "execute_result"
    }
   ],
   "source": [
    "clf = RandomForestClassifier(n_estimators=50,max_features=1.0,verbose=1)\n",
    "clf.fit(train_data,targets)"
   ]
  },
  {
   "cell_type": "code",
   "execution_count": 107,
   "metadata": {},
   "outputs": [],
   "source": [
    "features = pd.DataFrame()\n",
    "features['Feature'] = train_data.columns\n",
    "features['Importance'] = clf.feature_importances_\n",
    "features.sort_values(by=['Importance'], ascending=False, inplace=True)\n",
    "features.set_index('Feature', inplace=True)"
   ]
  },
  {
   "cell_type": "code",
   "execution_count": 108,
   "metadata": {},
   "outputs": [
    {
     "data": {
      "text/plain": [
       "<matplotlib.axes._subplots.AxesSubplot at 0x232128951d0>"
      ]
     },
     "execution_count": 108,
     "metadata": {},
     "output_type": "execute_result"
    },
    {
     "data": {
      "image/png": "[encoded data removed]",
      "text/plain": [
       "<Figure size 1440x720 with 1 Axes>"
      ]
     },
     "metadata": {
      "needs_background": "light"
     },
     "output_type": "display_data"
    }
   ],
   "source": [
    "features.plot(kind='bar', figsize=(20, 10))"
   ]
  },
  {
   "cell_type": "code",
   "execution_count": 109,
   "metadata": {},
   "outputs": [],
   "source": [
    "model = SelectFromModel(clf,prefit=True)"
   ]
  },
  {
   "cell_type": "code",
   "execution_count": 110,
   "metadata": {},
   "outputs": [
    {
     "data": {
      "text/plain": [
       "(543, 2)"
      ]
     },
     "execution_count": 110,
     "metadata": {},
     "output_type": "execute_result"
    }
   ],
   "source": [
    "train_reduced = model.transform(train_data)\n",
    "train_reduced.shape"
   ]
  },
  {
   "cell_type": "code",
   "execution_count": 111,
   "metadata": {},
   "outputs": [],
   "source": [
    "test_reduced = model.transform(test_data)"
   ]
  },
  {
   "cell_type": "code",
   "execution_count": 121,
   "metadata": {},
   "outputs": [
    {
     "data": {
      "text/plain": [
       "RandomForestClassifier(bootstrap=True, class_weight=None, criterion='gini',\n",
       "            max_depth=None, max_features='sqrt', max_leaf_nodes=None,\n",
       "            min_impurity_decrease=0.0, min_impurity_split=None,\n",
       "            min_samples_leaf=3, min_samples_split=10,\n",
       "            min_weight_fraction_leaf=0.0, n_estimators=20, n_jobs=None,\n",
       "            oob_score=False, random_state=None, verbose=0,\n",
       "            warm_start=False)"
      ]
     },
     "execution_count": 121,
     "metadata": {},
     "output_type": "execute_result"
    }
   ],
   "source": [
    "parameters = {'bootstrap': True,\n",
    "              'min_samples_leaf': 3,\n",
    "              'n_estimators': 20,\n",
    "              'min_samples_split': 10,\n",
    "              'max_features': 'sqrt',\n",
    "              'max_depth': None}\n",
    "\n",
    "model = RandomForestClassifier(**parameters)\n",
    "model.fit(train_reduced, targets)"
   ]
  },
  {
   "cell_type": "code",
   "execution_count": 122,
   "metadata": {},
   "outputs": [
    {
     "data": {
      "text/plain": [
       "0.8011043153244988"
      ]
     },
     "execution_count": 122,
     "metadata": {},
     "output_type": "execute_result"
    }
   ],
   "source": [
    "from sklearn.model_selection import cross_val_score\n",
    "\n",
    "def compute_score(clf, X, y, scoring='accuracy'):\n",
    "    xval = cross_val_score(clf, X, y, cv = 5, scoring=scoring)\n",
    "    return np.mean(xval)\n",
    "compute_score(model, train_reduced, targets, scoring='accuracy')"
   ]
  },
  {
   "cell_type": "code",
   "execution_count": 124,
   "metadata": {},
   "outputs": [
    {
     "name": "stdout",
     "output_type": "stream",
     "text": [
      "[[0.035      0.965     ]\n",
      " [0.6935524  0.3064476 ]\n",
      " [0.68115565 0.31884435]\n",
      " [0.         1.        ]\n",
      " [0.17214362 0.82785638]\n",
      " [0.93434649 0.06565351]\n",
      " [0.89658189 0.10341811]\n",
      " [0.93434649 0.06565351]\n",
      " [0.48475608 0.51524392]\n",
      " [0.         1.        ]\n",
      " [0.         1.        ]\n",
      " [0.84791966 0.15208034]\n",
      " [0.57579212 0.42420788]\n",
      " [0.52450216 0.47549784]\n",
      " [0.36052488 0.63947512]\n",
      " [0.64212607 0.35787393]\n",
      " [0.48178007 0.51821993]\n",
      " [0.74595779 0.25404221]\n",
      " [0.31772727 0.68227273]\n",
      " [0.01       0.99      ]\n",
      " [0.70091504 0.29908496]\n",
      " [0.57450216 0.42549784]\n",
      " [0.95641608 0.04358392]\n",
      " [0.65402167 0.34597833]\n",
      " [0.85289715 0.14710285]\n",
      " [0.38520327 0.61479673]\n",
      " [0.16722569 0.83277431]\n",
      " [0.         1.        ]\n",
      " [0.         1.        ]\n",
      " [0.74846334 0.25153666]\n",
      " [0.64964286 0.35035714]\n",
      " [0.         1.        ]\n",
      " [0.         1.        ]\n",
      " [0.         1.        ]\n",
      " [0.84449856 0.15550144]\n",
      " [0.62257451 0.37742549]\n",
      " [0.         1.        ]\n",
      " [0.65458042 0.34541958]\n",
      " [0.94847061 0.05152939]\n",
      " [0.7082967  0.2917033 ]\n",
      " [0.         1.        ]\n",
      " [0.71604229 0.28395771]\n",
      " [0.57450216 0.42549784]\n",
      " [0.84448718 0.15551282]\n",
      " [0.         1.        ]\n",
      " [0.72674603 0.27325397]\n",
      " [0.90815601 0.09184399]\n",
      " [0.         1.        ]\n",
      " [0.035      0.965     ]\n",
      " [0.95641608 0.04358392]\n",
      " [0.         1.        ]\n",
      " [0.         1.        ]\n",
      " [0.82370726 0.17629274]\n",
      " [0.15544594 0.84455406]\n",
      " [0.63401633 0.36598367]\n",
      " [0.830625   0.169375  ]\n",
      " [0.         1.        ]\n",
      " [0.6267846  0.3732154 ]\n",
      " [0.95815601 0.04184399]\n",
      " [0.4828355  0.5171645 ]\n",
      " [0.67477422 0.32522578]\n",
      " [0.72674603 0.27325397]\n",
      " [0.08199571 0.91800429]\n",
      " [0.89701057 0.10298943]\n",
      " [0.60151633 0.39848367]\n",
      " [0.5050938  0.4949062 ]\n",
      " [0.         1.        ]\n",
      " [0.59828612 0.40171388]\n",
      " [0.2091342  0.7908658 ]\n",
      " [0.76903934 0.23096066]\n",
      " [0.58000298 0.41999702]\n",
      " [0.         1.        ]\n",
      " [0.         1.        ]\n",
      " [0.01428571 0.98571429]\n",
      " [0.48446456 0.51553544]\n",
      " [0.08199571 0.91800429]\n",
      " [0.33167291 0.66832709]\n",
      " [0.         1.        ]\n",
      " [0.68761211 0.31238789]\n",
      " [0.         1.        ]\n",
      " [0.         1.        ]\n",
      " [0.94847061 0.05152939]\n",
      " [0.0966342  0.9033658 ]\n",
      " [0.6267846  0.3732154 ]\n",
      " [0.75456807 0.24543193]\n",
      " [0.74848493 0.25151507]\n",
      " [0.01       0.99      ]\n",
      " [0.42180153 0.57819847]\n",
      " [0.47065476 0.52934524]\n",
      " [0.68498321 0.31501679]\n",
      " [0.81672161 0.18327839]\n",
      " [0.62844364 0.37155636]\n",
      " [0.         1.        ]\n",
      " [0.5300938  0.4699062 ]\n",
      " [0.01875    0.98125   ]\n",
      " [0.06727273 0.93272727]\n",
      " [0.6267846  0.3732154 ]\n",
      " [0.49178863 0.50821137]\n",
      " [0.69556818 0.30443182]\n",
      " [0.         1.        ]\n",
      " [0.50047647 0.49952353]\n",
      " [0.56992605 0.43007395]\n",
      " [0.         1.        ]\n",
      " [0.7262627  0.2737373 ]\n",
      " [0.40235487 0.59764513]\n",
      " [0.         1.        ]\n",
      " [0.44625    0.55375   ]\n",
      " [0.01       0.99      ]\n",
      " [0.37198815 0.62801185]\n",
      " [0.01428571 0.98571429]\n",
      " [0.89701057 0.10298943]\n",
      " [0.07654117 0.92345883]\n",
      " [0.38930153 0.61069847]\n",
      " [0.61630495 0.38369505]\n",
      " [0.74430456 0.25569544]\n",
      " [0.63083486 0.36916514]\n",
      " [0.         1.        ]\n",
      " [0.88178616 0.11821384]\n",
      " [0.42065476 0.57934524]\n",
      " [0.         1.        ]\n",
      " [0.16352897 0.83647103]\n",
      " [0.         1.        ]\n",
      " [0.95641608 0.04358392]\n",
      " [0.97125    0.02875   ]\n",
      " [0.6883676  0.3116324 ]\n",
      " [0.         1.        ]\n",
      " [0.46675894 0.53324106]\n",
      " [0.         1.        ]\n",
      " [0.         1.        ]\n",
      " [0.         1.        ]\n",
      " [0.70301116 0.29698884]\n",
      " [0.88791966 0.11208034]\n",
      " [0.89701057 0.10298943]\n",
      " [0.88408189 0.11591811]\n",
      " [0.         1.        ]\n",
      " [0.08333333 0.91666667]\n",
      " [0.         1.        ]\n",
      " [0.0638961  0.9361039 ]\n",
      " [0.68154942 0.31845058]\n",
      " [0.74776786 0.25223214]\n",
      " [0.38520327 0.61479673]\n",
      " [0.53554293 0.46445707]\n",
      " [0.         1.        ]\n",
      " [0.97670455 0.02329545]\n",
      " [0.89658189 0.10341811]\n",
      " [0.22881029 0.77118971]\n",
      " [0.         1.        ]\n",
      " [0.         1.        ]\n",
      " [0.88178616 0.11821384]\n",
      " [0.65587454 0.34412546]\n",
      " [0.         1.        ]\n",
      " [0.67170302 0.32829698]\n",
      " [0.72958042 0.27041958]\n",
      " [0.89701057 0.10298943]\n",
      " [0.39763443 0.60236557]\n",
      " [0.64309191 0.35690809]\n",
      " [0.12179237 0.87820763]\n",
      " [0.         1.        ]\n",
      " [0.64339619 0.35660381]\n",
      " [0.         1.        ]\n",
      " [0.         1.        ]\n",
      " [0.94804487 0.05195513]\n",
      " [0.95815601 0.04184399]\n",
      " [0.72415251 0.27584749]\n",
      " [0.         1.        ]\n",
      " [0.14660069 0.85339931]\n",
      " [0.55071429 0.44928571]\n",
      " [0.03       0.97      ]\n",
      " [0.         1.        ]\n",
      " [0.7920689  0.2079311 ]\n",
      " [0.         1.        ]\n",
      " [0.         1.        ]\n",
      " [0.         1.        ]\n",
      " [0.77424647 0.22575353]\n",
      " [0.56992605 0.43007395]\n",
      " [0.0966342  0.9033658 ]\n",
      " [0.5822132  0.4177868 ]\n",
      " [0.         1.        ]\n",
      " [0.60807387 0.39192613]\n",
      " [0.         1.        ]\n",
      " [0.         1.        ]\n",
      " [0.51329268 0.48670732]\n",
      " [0.         1.        ]\n",
      " [0.1318623  0.8681377 ]\n",
      " [0.92624838 0.07375162]\n",
      " [0.70826798 0.29173202]\n",
      " [0.         1.        ]\n",
      " [0.         1.        ]\n",
      " [0.03416667 0.96583333]\n",
      " [0.08199571 0.91800429]\n",
      " [0.67297772 0.32702228]\n",
      " [0.68129121 0.31870879]\n",
      " [0.74430456 0.25569544]\n",
      " [0.         1.        ]\n",
      " [0.01428571 0.98571429]\n",
      " [0.         1.        ]\n",
      " [0.82526003 0.17473997]\n",
      " [0.00666667 0.99333333]\n",
      " [0.         1.        ]\n",
      " [0.91677323 0.08322677]\n",
      " [0.         1.        ]\n",
      " [0.31008693 0.68991307]\n",
      " [0.42041644 0.57958356]\n",
      " [0.         1.        ]\n",
      " [0.         1.        ]\n",
      " [0.92791667 0.07208333]\n",
      " [0.28191558 0.71808442]\n",
      " [0.60807387 0.39192613]\n",
      " [0.37198815 0.62801185]\n",
      " [0.         1.        ]\n",
      " [0.37941017 0.62058983]\n",
      " [0.         1.        ]\n",
      " [0.48446456 0.51553544]\n",
      " [0.03416667 0.96583333]\n",
      " [0.77678571 0.22321429]\n",
      " [0.         1.        ]\n",
      " [0.66267857 0.33732143]\n",
      " [0.48446456 0.51553544]\n",
      " [0.43675866 0.56324134]\n",
      " [0.70945818 0.29054182]\n",
      " [0.39356059 0.60643941]\n",
      " [0.83784722 0.16215278]\n",
      " [0.98125    0.01875   ]\n",
      " [0.1318623  0.8681377 ]\n",
      " [0.         1.        ]\n",
      " [0.75430456 0.24569544]\n",
      " [0.60151633 0.39848367]\n",
      " [0.         1.        ]\n",
      " [0.72845238 0.27154762]\n",
      " [0.60807387 0.39192613]\n",
      " [0.53475608 0.46524392]\n",
      " [0.         1.        ]\n",
      " [0.68474287 0.31525713]]\n"
     ]
    }
   ],
   "source": [
    "output = model.predict(test_reduced).astype(int)\n",
    "output = model.predict_proba(test_reduced)\n",
    "print(output)"
   ]
  },
  {
   "cell_type": "code",
   "execution_count": 125,
   "metadata": {},
   "outputs": [
    {
     "data": {
      "text/plain": [
       "0.8821362799263351"
      ]
     },
     "execution_count": 125,
     "metadata": {},
     "output_type": "execute_result"
    }
   ],
   "source": [
    "model.score(train_reduced,targets)"
   ]
  },
  {
   "cell_type": "code",
   "execution_count": 78,
   "metadata": {},
   "outputs": [],
   "source": [
    "from sklearn.ensemble import BaggingClassifier,AdaBoostClassifier\n",
    "from sklearn.tree import DecisionTreeClassifier\n",
    "bag = BaggingClassifier(RandomForestClassifier(),n_estimators=50,max_samples=0.5,max_features=1.0)"
   ]
  },
  {
   "cell_type": "code",
   "execution_count": 72,
   "metadata": {},
   "outputs": [
    {
     "name": "stderr",
     "output_type": "stream",
     "text": [
      "C:\\Users\\Lenovo\\3D Objects\\ana\\lib\\site-packages\\sklearn\\ensemble\\forest.py:246: FutureWarning: The default value of n_estimators will change from 10 in version 0.20 to 100 in 0.22.\n",
      "  \"10 in version 0.20 to 100 in 0.22.\", FutureWarning)\n",
      "C:\\Users\\Lenovo\\3D Objects\\ana\\lib\\site-packages\\sklearn\\ensemble\\forest.py:246: FutureWarning: The default value of n_estimators will change from 10 in version 0.20 to 100 in 0.22.\n",
      "  \"10 in version 0.20 to 100 in 0.22.\", FutureWarning)\n",
      "C:\\Users\\Lenovo\\3D Objects\\ana\\lib\\site-packages\\sklearn\\ensemble\\forest.py:246: FutureWarning: The default value of n_estimators will change from 10 in version 0.20 to 100 in 0.22.\n",
      "  \"10 in version 0.20 to 100 in 0.22.\", FutureWarning)\n",
      "C:\\Users\\Lenovo\\3D Objects\\ana\\lib\\site-packages\\sklearn\\ensemble\\forest.py:246: FutureWarning: The default value of n_estimators will change from 10 in version 0.20 to 100 in 0.22.\n",
      "  \"10 in version 0.20 to 100 in 0.22.\", FutureWarning)\n",
      "C:\\Users\\Lenovo\\3D Objects\\ana\\lib\\site-packages\\sklearn\\ensemble\\forest.py:246: FutureWarning: The default value of n_estimators will change from 10 in version 0.20 to 100 in 0.22.\n",
      "  \"10 in version 0.20 to 100 in 0.22.\", FutureWarning)\n",
      "C:\\Users\\Lenovo\\3D Objects\\ana\\lib\\site-packages\\sklearn\\ensemble\\forest.py:246: FutureWarning: The default value of n_estimators will change from 10 in version 0.20 to 100 in 0.22.\n",
      "  \"10 in version 0.20 to 100 in 0.22.\", FutureWarning)\n",
      "C:\\Users\\Lenovo\\3D Objects\\ana\\lib\\site-packages\\sklearn\\ensemble\\forest.py:246: FutureWarning: The default value of n_estimators will change from 10 in version 0.20 to 100 in 0.22.\n",
      "  \"10 in version 0.20 to 100 in 0.22.\", FutureWarning)\n",
      "C:\\Users\\Lenovo\\3D Objects\\ana\\lib\\site-packages\\sklearn\\ensemble\\forest.py:246: FutureWarning: The default value of n_estimators will change from 10 in version 0.20 to 100 in 0.22.\n",
      "  \"10 in version 0.20 to 100 in 0.22.\", FutureWarning)\n",
      "C:\\Users\\Lenovo\\3D Objects\\ana\\lib\\site-packages\\sklearn\\ensemble\\forest.py:246: FutureWarning: The default value of n_estimators will change from 10 in version 0.20 to 100 in 0.22.\n",
      "  \"10 in version 0.20 to 100 in 0.22.\", FutureWarning)\n",
      "C:\\Users\\Lenovo\\3D Objects\\ana\\lib\\site-packages\\sklearn\\ensemble\\forest.py:246: FutureWarning: The default value of n_estimators will change from 10 in version 0.20 to 100 in 0.22.\n",
      "  \"10 in version 0.20 to 100 in 0.22.\", FutureWarning)\n",
      "C:\\Users\\Lenovo\\3D Objects\\ana\\lib\\site-packages\\sklearn\\ensemble\\forest.py:246: FutureWarning: The default value of n_estimators will change from 10 in version 0.20 to 100 in 0.22.\n",
      "  \"10 in version 0.20 to 100 in 0.22.\", FutureWarning)\n",
      "C:\\Users\\Lenovo\\3D Objects\\ana\\lib\\site-packages\\sklearn\\ensemble\\forest.py:246: FutureWarning: The default value of n_estimators will change from 10 in version 0.20 to 100 in 0.22.\n",
      "  \"10 in version 0.20 to 100 in 0.22.\", FutureWarning)\n",
      "C:\\Users\\Lenovo\\3D Objects\\ana\\lib\\site-packages\\sklearn\\ensemble\\forest.py:246: FutureWarning: The default value of n_estimators will change from 10 in version 0.20 to 100 in 0.22.\n",
      "  \"10 in version 0.20 to 100 in 0.22.\", FutureWarning)\n",
      "C:\\Users\\Lenovo\\3D Objects\\ana\\lib\\site-packages\\sklearn\\ensemble\\forest.py:246: FutureWarning: The default value of n_estimators will change from 10 in version 0.20 to 100 in 0.22.\n",
      "  \"10 in version 0.20 to 100 in 0.22.\", FutureWarning)\n",
      "C:\\Users\\Lenovo\\3D Objects\\ana\\lib\\site-packages\\sklearn\\ensemble\\forest.py:246: FutureWarning: The default value of n_estimators will change from 10 in version 0.20 to 100 in 0.22.\n",
      "  \"10 in version 0.20 to 100 in 0.22.\", FutureWarning)\n",
      "C:\\Users\\Lenovo\\3D Objects\\ana\\lib\\site-packages\\sklearn\\ensemble\\forest.py:246: FutureWarning: The default value of n_estimators will change from 10 in version 0.20 to 100 in 0.22.\n",
      "  \"10 in version 0.20 to 100 in 0.22.\", FutureWarning)\n",
      "C:\\Users\\Lenovo\\3D Objects\\ana\\lib\\site-packages\\sklearn\\ensemble\\forest.py:246: FutureWarning: The default value of n_estimators will change from 10 in version 0.20 to 100 in 0.22.\n",
      "  \"10 in version 0.20 to 100 in 0.22.\", FutureWarning)\n",
      "C:\\Users\\Lenovo\\3D Objects\\ana\\lib\\site-packages\\sklearn\\ensemble\\forest.py:246: FutureWarning: The default value of n_estimators will change from 10 in version 0.20 to 100 in 0.22.\n",
      "  \"10 in version 0.20 to 100 in 0.22.\", FutureWarning)\n",
      "C:\\Users\\Lenovo\\3D Objects\\ana\\lib\\site-packages\\sklearn\\ensemble\\forest.py:246: FutureWarning: The default value of n_estimators will change from 10 in version 0.20 to 100 in 0.22.\n",
      "  \"10 in version 0.20 to 100 in 0.22.\", FutureWarning)\n",
      "C:\\Users\\Lenovo\\3D Objects\\ana\\lib\\site-packages\\sklearn\\ensemble\\forest.py:246: FutureWarning: The default value of n_estimators will change from 10 in version 0.20 to 100 in 0.22.\n",
      "  \"10 in version 0.20 to 100 in 0.22.\", FutureWarning)\n",
      "C:\\Users\\Lenovo\\3D Objects\\ana\\lib\\site-packages\\sklearn\\ensemble\\forest.py:246: FutureWarning: The default value of n_estimators will change from 10 in version 0.20 to 100 in 0.22.\n",
      "  \"10 in version 0.20 to 100 in 0.22.\", FutureWarning)\n",
      "C:\\Users\\Lenovo\\3D Objects\\ana\\lib\\site-packages\\sklearn\\ensemble\\forest.py:246: FutureWarning: The default value of n_estimators will change from 10 in version 0.20 to 100 in 0.22.\n",
      "  \"10 in version 0.20 to 100 in 0.22.\", FutureWarning)\n",
      "C:\\Users\\Lenovo\\3D Objects\\ana\\lib\\site-packages\\sklearn\\ensemble\\forest.py:246: FutureWarning: The default value of n_estimators will change from 10 in version 0.20 to 100 in 0.22.\n",
      "  \"10 in version 0.20 to 100 in 0.22.\", FutureWarning)\n",
      "C:\\Users\\Lenovo\\3D Objects\\ana\\lib\\site-packages\\sklearn\\ensemble\\forest.py:246: FutureWarning: The default value of n_estimators will change from 10 in version 0.20 to 100 in 0.22.\n",
      "  \"10 in version 0.20 to 100 in 0.22.\", FutureWarning)\n",
      "C:\\Users\\Lenovo\\3D Objects\\ana\\lib\\site-packages\\sklearn\\ensemble\\forest.py:246: FutureWarning: The default value of n_estimators will change from 10 in version 0.20 to 100 in 0.22.\n",
      "  \"10 in version 0.20 to 100 in 0.22.\", FutureWarning)\n",
      "C:\\Users\\Lenovo\\3D Objects\\ana\\lib\\site-packages\\sklearn\\ensemble\\forest.py:246: FutureWarning: The default value of n_estimators will change from 10 in version 0.20 to 100 in 0.22.\n",
      "  \"10 in version 0.20 to 100 in 0.22.\", FutureWarning)\n",
      "C:\\Users\\Lenovo\\3D Objects\\ana\\lib\\site-packages\\sklearn\\ensemble\\forest.py:246: FutureWarning: The default value of n_estimators will change from 10 in version 0.20 to 100 in 0.22.\n",
      "  \"10 in version 0.20 to 100 in 0.22.\", FutureWarning)\n",
      "C:\\Users\\Lenovo\\3D Objects\\ana\\lib\\site-packages\\sklearn\\ensemble\\forest.py:246: FutureWarning: The default value of n_estimators will change from 10 in version 0.20 to 100 in 0.22.\n",
      "  \"10 in version 0.20 to 100 in 0.22.\", FutureWarning)\n",
      "C:\\Users\\Lenovo\\3D Objects\\ana\\lib\\site-packages\\sklearn\\ensemble\\forest.py:246: FutureWarning: The default value of n_estimators will change from 10 in version 0.20 to 100 in 0.22.\n",
      "  \"10 in version 0.20 to 100 in 0.22.\", FutureWarning)\n",
      "C:\\Users\\Lenovo\\3D Objects\\ana\\lib\\site-packages\\sklearn\\ensemble\\forest.py:246: FutureWarning: The default value of n_estimators will change from 10 in version 0.20 to 100 in 0.22.\n",
      "  \"10 in version 0.20 to 100 in 0.22.\", FutureWarning)\n",
      "C:\\Users\\Lenovo\\3D Objects\\ana\\lib\\site-packages\\sklearn\\ensemble\\forest.py:246: FutureWarning: The default value of n_estimators will change from 10 in version 0.20 to 100 in 0.22.\n",
      "  \"10 in version 0.20 to 100 in 0.22.\", FutureWarning)\n",
      "C:\\Users\\Lenovo\\3D Objects\\ana\\lib\\site-packages\\sklearn\\ensemble\\forest.py:246: FutureWarning: The default value of n_estimators will change from 10 in version 0.20 to 100 in 0.22.\n",
      "  \"10 in version 0.20 to 100 in 0.22.\", FutureWarning)\n",
      "C:\\Users\\Lenovo\\3D Objects\\ana\\lib\\site-packages\\sklearn\\ensemble\\forest.py:246: FutureWarning: The default value of n_estimators will change from 10 in version 0.20 to 100 in 0.22.\n",
      "  \"10 in version 0.20 to 100 in 0.22.\", FutureWarning)\n",
      "C:\\Users\\Lenovo\\3D Objects\\ana\\lib\\site-packages\\sklearn\\ensemble\\forest.py:246: FutureWarning: The default value of n_estimators will change from 10 in version 0.20 to 100 in 0.22.\n",
      "  \"10 in version 0.20 to 100 in 0.22.\", FutureWarning)\n",
      "C:\\Users\\Lenovo\\3D Objects\\ana\\lib\\site-packages\\sklearn\\ensemble\\forest.py:246: FutureWarning: The default value of n_estimators will change from 10 in version 0.20 to 100 in 0.22.\n",
      "  \"10 in version 0.20 to 100 in 0.22.\", FutureWarning)\n",
      "C:\\Users\\Lenovo\\3D Objects\\ana\\lib\\site-packages\\sklearn\\ensemble\\forest.py:246: FutureWarning: The default value of n_estimators will change from 10 in version 0.20 to 100 in 0.22.\n",
      "  \"10 in version 0.20 to 100 in 0.22.\", FutureWarning)\n",
      "C:\\Users\\Lenovo\\3D Objects\\ana\\lib\\site-packages\\sklearn\\ensemble\\forest.py:246: FutureWarning: The default value of n_estimators will change from 10 in version 0.20 to 100 in 0.22.\n",
      "  \"10 in version 0.20 to 100 in 0.22.\", FutureWarning)\n"
     ]
    },
    {
     "name": "stderr",
     "output_type": "stream",
     "text": [
      "C:\\Users\\Lenovo\\3D Objects\\ana\\lib\\site-packages\\sklearn\\ensemble\\forest.py:246: FutureWarning: The default value of n_estimators will change from 10 in version 0.20 to 100 in 0.22.\n",
      "  \"10 in version 0.20 to 100 in 0.22.\", FutureWarning)\n",
      "C:\\Users\\Lenovo\\3D Objects\\ana\\lib\\site-packages\\sklearn\\ensemble\\forest.py:246: FutureWarning: The default value of n_estimators will change from 10 in version 0.20 to 100 in 0.22.\n",
      "  \"10 in version 0.20 to 100 in 0.22.\", FutureWarning)\n",
      "C:\\Users\\Lenovo\\3D Objects\\ana\\lib\\site-packages\\sklearn\\ensemble\\forest.py:246: FutureWarning: The default value of n_estimators will change from 10 in version 0.20 to 100 in 0.22.\n",
      "  \"10 in version 0.20 to 100 in 0.22.\", FutureWarning)\n",
      "C:\\Users\\Lenovo\\3D Objects\\ana\\lib\\site-packages\\sklearn\\ensemble\\forest.py:246: FutureWarning: The default value of n_estimators will change from 10 in version 0.20 to 100 in 0.22.\n",
      "  \"10 in version 0.20 to 100 in 0.22.\", FutureWarning)\n",
      "C:\\Users\\Lenovo\\3D Objects\\ana\\lib\\site-packages\\sklearn\\ensemble\\forest.py:246: FutureWarning: The default value of n_estimators will change from 10 in version 0.20 to 100 in 0.22.\n",
      "  \"10 in version 0.20 to 100 in 0.22.\", FutureWarning)\n",
      "C:\\Users\\Lenovo\\3D Objects\\ana\\lib\\site-packages\\sklearn\\ensemble\\forest.py:246: FutureWarning: The default value of n_estimators will change from 10 in version 0.20 to 100 in 0.22.\n",
      "  \"10 in version 0.20 to 100 in 0.22.\", FutureWarning)\n",
      "C:\\Users\\Lenovo\\3D Objects\\ana\\lib\\site-packages\\sklearn\\ensemble\\forest.py:246: FutureWarning: The default value of n_estimators will change from 10 in version 0.20 to 100 in 0.22.\n",
      "  \"10 in version 0.20 to 100 in 0.22.\", FutureWarning)\n",
      "C:\\Users\\Lenovo\\3D Objects\\ana\\lib\\site-packages\\sklearn\\ensemble\\forest.py:246: FutureWarning: The default value of n_estimators will change from 10 in version 0.20 to 100 in 0.22.\n",
      "  \"10 in version 0.20 to 100 in 0.22.\", FutureWarning)\n",
      "C:\\Users\\Lenovo\\3D Objects\\ana\\lib\\site-packages\\sklearn\\ensemble\\forest.py:246: FutureWarning: The default value of n_estimators will change from 10 in version 0.20 to 100 in 0.22.\n",
      "  \"10 in version 0.20 to 100 in 0.22.\", FutureWarning)\n",
      "C:\\Users\\Lenovo\\3D Objects\\ana\\lib\\site-packages\\sklearn\\ensemble\\forest.py:246: FutureWarning: The default value of n_estimators will change from 10 in version 0.20 to 100 in 0.22.\n",
      "  \"10 in version 0.20 to 100 in 0.22.\", FutureWarning)\n",
      "C:\\Users\\Lenovo\\3D Objects\\ana\\lib\\site-packages\\sklearn\\ensemble\\forest.py:246: FutureWarning: The default value of n_estimators will change from 10 in version 0.20 to 100 in 0.22.\n",
      "  \"10 in version 0.20 to 100 in 0.22.\", FutureWarning)\n",
      "C:\\Users\\Lenovo\\3D Objects\\ana\\lib\\site-packages\\sklearn\\ensemble\\forest.py:246: FutureWarning: The default value of n_estimators will change from 10 in version 0.20 to 100 in 0.22.\n",
      "  \"10 in version 0.20 to 100 in 0.22.\", FutureWarning)\n",
      "C:\\Users\\Lenovo\\3D Objects\\ana\\lib\\site-packages\\sklearn\\ensemble\\forest.py:246: FutureWarning: The default value of n_estimators will change from 10 in version 0.20 to 100 in 0.22.\n",
      "  \"10 in version 0.20 to 100 in 0.22.\", FutureWarning)\n"
     ]
    },
    {
     "data": {
      "text/plain": [
       "BaggingClassifier(base_estimator=RandomForestClassifier(bootstrap=True, class_weight=None, criterion='gini',\n",
       "            max_depth=None, max_features='auto', max_leaf_nodes=None,\n",
       "            min_impurity_decrease=0.0, min_impurity_split=None,\n",
       "            min_samples_leaf=1, min_samples_split=2,\n",
       "            min_weight_fraction_leaf=0.0, n_estimators='warn', n_jobs=None,\n",
       "            oob_score=False, random_state=None, verbose=0,\n",
       "            warm_start=False),\n",
       "         bootstrap=True, bootstrap_features=False, max_features=1.0,\n",
       "         max_samples=0.5, n_estimators=50, n_jobs=None, oob_score=False,\n",
       "         random_state=None, verbose=0, warm_start=False)"
      ]
     },
     "execution_count": 72,
     "metadata": {},
     "output_type": "execute_result"
    }
   ],
   "source": [
    "bag.fit(train_data,targets)"
   ]
  },
  {
   "cell_type": "code",
   "execution_count": 73,
   "metadata": {},
   "outputs": [
    {
     "data": {
      "text/plain": [
       "0.9576427255985267"
      ]
     },
     "execution_count": 73,
     "metadata": {},
     "output_type": "execute_result"
    }
   ],
   "source": [
    "bag.score(train_data,targets)"
   ]
  },
  {
   "cell_type": "code",
   "execution_count": 74,
   "metadata": {},
   "outputs": [],
   "source": [
    "out = bag.predict_proba(test_data)"
   ]
  },
  {
   "cell_type": "code",
   "execution_count": 75,
   "metadata": {},
   "outputs": [],
   "source": [
    "out = pd.DataFrame(out)"
   ]
  },
  {
   "cell_type": "code",
   "execution_count": 76,
   "metadata": {},
   "outputs": [],
   "source": [
    "out.to_excel(excel_writer='sub_2.xlsx')"
   ]
  },
  {
   "cell_type": "code",
   "execution_count": 77,
   "metadata": {},
   "outputs": [
    {
     "name": "stdout",
     "output_type": "stream",
     "text": [
      "         0      1\n",
      "0    0.030  0.970\n",
      "1    0.354  0.646\n",
      "2    0.828  0.172\n",
      "3    0.010  0.990\n",
      "4    0.250  0.750\n",
      "5    0.652  0.348\n",
      "6    0.864  0.136\n",
      "7    0.824  0.176\n",
      "8    0.250  0.750\n",
      "9    0.044  0.956\n",
      "10   0.078  0.922\n",
      "11   0.864  0.136\n",
      "12   0.402  0.598\n",
      "13   0.684  0.316\n",
      "14   0.052  0.948\n",
      "15   0.760  0.240\n",
      "16   0.420  0.580\n",
      "17   0.582  0.418\n",
      "18   0.258  0.742\n",
      "19   0.000  1.000\n",
      "20   0.678  0.322\n",
      "21   0.568  0.432\n",
      "22   0.292  0.708\n",
      "23   0.880  0.120\n",
      "24   0.746  0.254\n",
      "25   0.036  0.964\n",
      "26   0.268  0.732\n",
      "27   0.024  0.976\n",
      "28   0.066  0.934\n",
      "29   0.732  0.268\n",
      "..     ...    ...\n",
      "203  0.050  0.950\n",
      "204  0.004  0.996\n",
      "205  0.658  0.342\n",
      "206  0.246  0.754\n",
      "207  0.158  0.842\n",
      "208  0.680  0.320\n",
      "209  0.062  0.938\n",
      "210  0.494  0.506\n",
      "211  0.020  0.980\n",
      "212  0.502  0.498\n",
      "213  0.046  0.954\n",
      "214  0.814  0.186\n",
      "215  0.060  0.940\n",
      "216  0.786  0.214\n",
      "217  0.416  0.584\n",
      "218  0.460  0.540\n",
      "219  0.846  0.154\n",
      "220  0.586  0.414\n",
      "221  0.428  0.572\n",
      "222  0.834  0.166\n",
      "223  0.430  0.570\n",
      "224  0.034  0.966\n",
      "225  0.344  0.656\n",
      "226  0.532  0.468\n",
      "227  0.106  0.894\n",
      "228  0.840  0.160\n",
      "229  0.298  0.702\n",
      "230  0.510  0.490\n",
      "231  0.002  0.998\n",
      "232  0.664  0.336\n",
      "\n",
      "[233 rows x 2 columns]\n"
     ]
    }
   ],
   "source": [
    "print(out)"
   ]
  },
  {
   "cell_type": "code",
   "execution_count": 98,
   "metadata": {},
   "outputs": [],
   "source": [
    "adb = AdaBoostClassifier(RandomForestClassifier(n_estimators=20),n_estimators=20)"
   ]
  },
  {
   "cell_type": "code",
   "execution_count": 99,
   "metadata": {},
   "outputs": [
    {
     "data": {
      "text/plain": [
       "AdaBoostClassifier(algorithm='SAMME.R',\n",
       "          base_estimator=RandomForestClassifier(bootstrap=True, class_weight=None, criterion='gini',\n",
       "            max_depth=None, max_features='auto', max_leaf_nodes=None,\n",
       "            min_impurity_decrease=0.0, min_impurity_split=None,\n",
       "            min_samples_leaf=1, min_samples_split=2,\n",
       "            min_weight_fraction_leaf=0.0, n_estimators=20, n_jobs=None,\n",
       "            oob_score=False, random_state=None, verbose=0,\n",
       "            warm_start=False),\n",
       "          learning_rate=1.0, n_estimators=20, random_state=None)"
      ]
     },
     "execution_count": 99,
     "metadata": {},
     "output_type": "execute_result"
    }
   ],
   "source": [
    "adb.fit(train_data,targets)"
   ]
  },
  {
   "cell_type": "code",
   "execution_count": 100,
   "metadata": {},
   "outputs": [
    {
     "data": {
      "text/plain": [
       "1.0"
      ]
     },
     "execution_count": 100,
     "metadata": {},
     "output_type": "execute_result"
    }
   ],
   "source": [
    "adb.score(train_data,targets)"
   ]
  },
  {
   "cell_type": "code",
   "execution_count": 102,
   "metadata": {},
   "outputs": [],
   "source": [
    "out_adb = adb.predict_proba(test_data)"
   ]
  },
  {
   "cell_type": "code",
   "execution_count": 126,
   "metadata": {},
   "outputs": [],
   "source": [
    "out_adb = pd.DataFrame(output)"
   ]
  },
  {
   "cell_type": "code",
   "execution_count": 128,
   "metadata": {},
   "outputs": [],
   "source": [
    "out_adb.to_excel(excel_writer='sub___2.xlsx')"
   ]
  },
  {
   "cell_type": "code",
   "execution_count": null,
   "metadata": {},
   "outputs": [],
   "source": []
  }
 ],
 "metadata": {
  "kernelspec": {
   "display_name": "Python 3",
   "language": "python",
   "name": "python3"
  },
  "language_info": {
   "codemirror_mode": {
    "name": "ipython",
    "version": 3
   },
   "file_extension": ".py",
   "mimetype": "text/x-python",
   "name": "python",
   "nbconvert_exporter": "python",
   "pygments_lexer": "ipython3",
   "version": "3.7.3"
  }
 },
 "nbformat": 4,
 "nbformat_minor": 2
}
